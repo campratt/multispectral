{
 "cells": [
  {
   "cell_type": "code",
   "execution_count": 2,
   "id": "74f18bba",
   "metadata": {},
   "outputs": [
    {
     "name": "stderr",
     "output_type": "stream",
     "text": [
      "2024-04-04 10:44:32.359958: I tensorflow/core/platform/cpu_feature_guard.cc:193] This TensorFlow binary is optimized with oneAPI Deep Neural Network Library (oneDNN) to use the following CPU instructions in performance-critical operations:  AVX2 AVX_VNNI FMA\n",
      "To enable them in other operations, rebuild TensorFlow with the appropriate compiler flags.\n",
      "2024-04-04 10:44:32.911518: I tensorflow/core/util/util.cc:169] oneDNN custom operations are on. You may see slightly different numerical results due to floating-point round-off errors from different computation orders. To turn them off, set the environment variable `TF_ENABLE_ONEDNN_OPTS=0`.\n",
      "2024-04-04 10:44:32.995831: W tensorflow/stream_executor/platform/default/dso_loader.cc:64] Could not load dynamic library 'libcudart.so.11.0'; dlerror: libcudart.so.11.0: cannot open shared object file: No such file or directory\n",
      "2024-04-04 10:44:32.995864: I tensorflow/stream_executor/cuda/cudart_stub.cc:29] Ignore above cudart dlerror if you do not have a GPU set up on your machine.\n",
      "2024-04-04 10:44:33.050359: E tensorflow/stream_executor/cuda/cuda_blas.cc:2981] Unable to register cuBLAS factory: Attempting to register factory for plugin cuBLAS when one has already been registered\n",
      "2024-04-04 10:44:34.055517: W tensorflow/stream_executor/platform/default/dso_loader.cc:64] Could not load dynamic library 'libnvinfer.so.7'; dlerror: libnvinfer.so.7: cannot open shared object file: No such file or directory\n",
      "2024-04-04 10:44:34.055606: W tensorflow/stream_executor/platform/default/dso_loader.cc:64] Could not load dynamic library 'libnvinfer_plugin.so.7'; dlerror: libnvinfer_plugin.so.7: cannot open shared object file: No such file or directory\n",
      "2024-04-04 10:44:34.055614: W tensorflow/compiler/tf2tensorrt/utils/py_utils.cc:38] TF-TRT Warning: Cannot dlopen some TensorRT libraries. If you would like to use Nvidia GPU with TensorRT, please make sure the missing libraries mentioned above are installed properly.\n"
     ]
    }
   ],
   "source": [
    "import numpy as np\n",
    "import matplotlib.pyplot as pl\n",
    "import os\n",
    "from os import listdir\n",
    "import tensorflow as tf"
   ]
  },
  {
   "cell_type": "code",
   "execution_count": 3,
   "id": "eb53abbf",
   "metadata": {},
   "outputs": [],
   "source": [
    "split_frac = 0.7\n",
    "d_Y = '../data/Y/'\n",
    "d_X = '../data/X/'\n",
    "\n",
    "IDs = sorted(listdir(d_Y))\n",
    "IDs = np.array([I.replace('.npy','') for I in IDs])\n",
    "IDs_train = np.array(IDs[:int(split_frac*len(IDs))])\n",
    "IDs_test = np.array(IDs[int(split_frac*len(IDs)):])\n",
    "\n",
    "IDs_test = np.array([i for i in IDs_test if '042-03' not in i])\n",
    "IDs_patient_test = np.unique(np.array([i.split('_')[0] for i in IDs_test]))\n",
    "IDs_patient_train = np.unique(np.array([i.split('_')[0] for i in IDs_train]))"
   ]
  },
  {
   "cell_type": "code",
   "execution_count": 4,
   "id": "c661b7c9",
   "metadata": {},
   "outputs": [],
   "source": [
    "Y_test = []\n",
    "X_test = []\n",
    "for i, ID in enumerate(IDs_test):\n",
    "    Y_test.append(np.load(d_Y+ID+'.npy'))\n",
    "    X_test.append(np.load(d_X+ID+'.npy'))\n",
    "\n",
    "        \n",
    "    \n",
    "Y_test = np.array(Y_test)\n",
    "X_test = np.array(X_test)"
   ]
  },
  {
   "cell_type": "code",
   "execution_count": 6,
   "id": "34f5cb89",
   "metadata": {},
   "outputs": [
    {
     "name": "stderr",
     "output_type": "stream",
     "text": [
      "2024-04-04 10:44:59.513762: E tensorflow/stream_executor/cuda/cuda_driver.cc:265] failed call to cuInit: CUDA_ERROR_UNKNOWN: unknown error\n",
      "2024-04-04 10:44:59.513816: I tensorflow/stream_executor/cuda/cuda_diagnostics.cc:169] retrieving CUDA diagnostic information for host: astr-campratt-lnx.astro.lsa.umich.edu\n",
      "2024-04-04 10:44:59.513822: I tensorflow/stream_executor/cuda/cuda_diagnostics.cc:176] hostname: astr-campratt-lnx.astro.lsa.umich.edu\n",
      "2024-04-04 10:44:59.513980: I tensorflow/stream_executor/cuda/cuda_diagnostics.cc:200] libcuda reported version is: 470.239.6\n",
      "2024-04-04 10:44:59.514000: I tensorflow/stream_executor/cuda/cuda_diagnostics.cc:204] kernel reported version is: 470.239.6\n",
      "2024-04-04 10:44:59.514005: I tensorflow/stream_executor/cuda/cuda_diagnostics.cc:310] kernel version seems to match DSO: 470.239.6\n",
      "2024-04-04 10:44:59.515005: I tensorflow/core/platform/cpu_feature_guard.cc:193] This TensorFlow binary is optimized with oneAPI Deep Neural Network Library (oneDNN) to use the following CPU instructions in performance-critical operations:  AVX2 AVX_VNNI FMA\n",
      "To enable them in other operations, rebuild TensorFlow with the appropriate compiler flags.\n"
     ]
    }
   ],
   "source": [
    "model = tf.keras.models.load_model('../model/')\n"
   ]
  },
  {
   "cell_type": "code",
   "execution_count": 7,
   "id": "666fd693",
   "metadata": {},
   "outputs": [
    {
     "name": "stdout",
     "output_type": "stream",
     "text": [
      "452/452 [==============================] - 19s 42ms/step\n"
     ]
    }
   ],
   "source": [
    "pred = model.predict(X_test)\n",
    "pred_onehot = np.zeros_like(pred)\n",
    "pred_onehot[np.arange(len(pred)), pred.argmax(1)] = 1"
   ]
  },
  {
   "cell_type": "code",
   "execution_count": 21,
   "id": "13dd6e61",
   "metadata": {},
   "outputs": [],
   "source": [
    "def stats(Y_true,Y_pred, stat='OA',tissue_type=None):\n",
    "    if Y_true.shape[0]>Y_true.shape[1]:\n",
    "        Y_true = Y_true.T\n",
    "    if Y_pred.shape[0]>Y_pred.shape[1]:\n",
    "        Y_pred = Y_pred.T\n",
    "\n",
    "    TP = 0\n",
    "    TN = 0\n",
    "    FP = 0\n",
    "    FN = 0\n",
    "\n",
    "    if tissue_type == None:\n",
    "        for i in range(len(Y_true)):\n",
    "            TP += np.where((Y_true[i] == 1) & (Y_pred[i] == 1))[0].size\n",
    "            TN += np.where((Y_true[i] == 0) & (Y_pred[i] == 0))[0].size\n",
    "            FP += np.where((Y_true[i] == 0) & (Y_pred[i] == 1))[0].size\n",
    "            FN += np.where((Y_true[i] == 1) & (Y_pred[i] == 0))[0].size\n",
    "\n",
    "    if tissue_type=='normal':\n",
    "        i=0\n",
    "        TP += np.where((Y_true[i] == 1) & (Y_pred[i] == 1))[0].size\n",
    "        TN += np.where((Y_true[i] == 0) & (Y_pred[i] == 0))[0].size\n",
    "        FP += np.where((Y_true[i] == 0) & (Y_pred[i] == 1))[0].size\n",
    "        FN += np.where((Y_true[i] == 1) & (Y_pred[i] == 0))[0].size\n",
    "\n",
    "    if tissue_type=='tumor':\n",
    "        i=1\n",
    "        TP += np.where((Y_true[i] == 1) & (Y_pred[i] == 1))[0].size\n",
    "        TN += np.where((Y_true[i] == 0) & (Y_pred[i] == 0))[0].size\n",
    "        FP += np.where((Y_true[i] == 0) & (Y_pred[i] == 1))[0].size\n",
    "        FN += np.where((Y_true[i] == 1) & (Y_pred[i] == 0))[0].size\n",
    "\n",
    "    #print(TP,TN,FP,FN)\n",
    "\n",
    "    if stat=='OA':\n",
    "        return (TP+TN)/(TP+TN+FP+FN)\n",
    "    if stat=='specificity':\n",
    "        return TN/(TN+FP)\n",
    "    if stat=='sensitivity':\n",
    "        return TP/(TP+FN)\n",
    "    if stat=='precision':\n",
    "        return TP/(TP+FP)\n",
    "    if stat=='F1':\n",
    "        return 2*TP/(2*TP+FP+FN)\n",
    "    if stat=='accuracy':\n",
    "        return (TP+TN)/(TP+TN+FP+FN)\n",
    "    if stat=='recall':\n",
    "        return TP/(TP+FN)"
   ]
  },
  {
   "cell_type": "code",
   "execution_count": 42,
   "id": "947833e4",
   "metadata": {},
   "outputs": [
    {
     "name": "stdout",
     "output_type": "stream",
     "text": [
      "043-01\n",
      "\n",
      "043-02\n",
      "\n",
      "050-01\n",
      "\n",
      "053-01\n",
      "\n",
      "056-01\n",
      "\n",
      "056-02\n",
      "\n",
      "057-01\n",
      "\n",
      "058-02\n",
      "\n"
     ]
    }
   ],
   "source": [
    "precisions = []\n",
    "sensitivities = []\n",
    "specificities = []\n",
    "F1s = []\n",
    "accuracies = []\n",
    "for i, ID in enumerate(IDs_patient_test):\n",
    "    w = np.where([ID in j for j in IDs_test])[0]\n",
    "    \n",
    "    precisions.append([stats(Y_test[w],pred_onehot[w],stat='sensitivity',tissue_type='normal'),stats(Y_test[w],pred_onehot[w],stat='sensitivity',tissue_type='tumor')])\n",
    "    sensitivities.append([stats(Y_test[w],pred_onehot[w],stat='specificity',tissue_type='normal'),stats(Y_test[w],pred_onehot[w],stat='specificity',tissue_type='tumor')])\n",
    "    specificities.append([stats(Y_test[w],pred_onehot[w],stat='precision',tissue_type='normal'),stats(Y_test[w],pred_onehot[w],stat='precision',tissue_type='tumor')])\n",
    "    F1s.append([stats(Y_test[w],pred_onehot[w],stat='F1',tissue_type='normal'),stats(Y_test[w],pred_onehot[w],stat='F1',tissue_type='tumor')])\n",
    "    accuracies.append([stats(Y_test[w],pred_onehot[w],stat='accuracy',tissue_type='normal'),stats(Y_test[w],pred_onehot[w],stat='accuracy',tissue_type='tumor')])\n",
    "    \n",
    "\n",
    "precisions = np.array(precisions)\n",
    "sensitivities = np.array(sensitivities)\n",
    "specificities = np.array(specificities)\n",
    "F1s = np.array(F1s)\n",
    "accuracies = np.array(accuracies)"
   ]
  },
  {
   "cell_type": "code",
   "execution_count": 57,
   "id": "be123488",
   "metadata": {},
   "outputs": [
    {
     "data": {
      "image/png": "[encoded data removed]",
      "text/plain": [
       "<Figure size 1440x360 with 2 Axes>"
      ]
     },
     "metadata": {
      "needs_background": "light"
     },
     "output_type": "display_data"
    }
   ],
   "source": [
    "# Plotting\n",
    "bar_width = 0.2\n",
    "\n",
    "r = np.arange(0,2*len(IDs_patient_test),2)\n",
    "\n",
    "fig, ax = pl.subplots(1,2,figsize=(20,5))\n",
    "\n",
    "offset = 0.25\n",
    "\n",
    "ax[0].bar(r-(2*offset), specificities.T[0],width=bar_width, color='b', label='Specificity',alpha=0.5)\n",
    "ax[0].bar(r - offset, sensitivities.T[0], width=bar_width,color='g', label='Sensitivity',alpha=0.5)\n",
    "ax[0].bar(r, precisions.T[0], width=bar_width, color='r', label='Precision', alpha=0.5)\n",
    "ax[0].bar(r+offset, accuracies.T[0], width=bar_width, color='k', label='Accuracy', alpha=0.5)\n",
    "ax[0].bar(r+(2*offset), F1s.T[0], width=bar_width, color='c', label='F-score', alpha=0.5)\n",
    "\n",
    "ax[1].bar(r-(2*offset), specificities.T[1],width=bar_width, color='b', label='Specificity',alpha=0.5)\n",
    "ax[1].bar(r - offset, sensitivities.T[1], width=bar_width,color='g', label='Sensitivity',alpha=0.5)\n",
    "ax[1].bar(r, precisions.T[1], width=bar_width, color='r', label='Precision', alpha=0.5)\n",
    "ax[1].bar(r+offset, accuracies.T[1], width=bar_width, color='k', label='Accuracy', alpha=0.5)\n",
    "ax[1].bar(r+(2*offset), F1s.T[1], width=bar_width, color='c', label='F-score', alpha=0.5)\n",
    "\n",
    "\n",
    "ax[0].set_xticks(r)\n",
    "ax[0].set_xticklabels(IDs_patient_test)\n",
    "ax[0].set_title('Normal')\n",
    "ax[0].legend(ncol=5,loc='upper center')\n",
    "ax[0].set_ylim(0,1.15)\n",
    "ax[0].set_xlabel('Patient ID',fontsize=15,color='black',labelpad=10)\n",
    "\n",
    "ax[1].set_xticks(r)\n",
    "ax[1].set_xticklabels(IDs_patient_test)\n",
    "ax[1].set_title('Tumor')\n",
    "ax[1].legend(ncol=5,loc='upper center')\n",
    "ax[1].set_ylim(0,1.15)\n",
    "ax[1].set_xlabel('Patient ID',fontsize=15,color='black',labelpad=10)\n",
    "\n",
    "pl.tight_layout()\n",
    "\n",
    "fig.savefig('model_performance.png')"
   ]
  },
  {
   "cell_type": "code",
   "execution_count": null,
   "id": "d2fdbb8d",
   "metadata": {},
   "outputs": [],
   "source": []
  }
 ],
 "metadata": {
  "kernelspec": {
   "display_name": "Python 3 (ipykernel)",
   "language": "python",
   "name": "python3"
  },
  "language_info": {
   "codemirror_mode": {
    "name": "ipython",
    "version": 3
   },
   "file_extension": ".py",
   "mimetype": "text/x-python",
   "name": "python",
   "nbconvert_exporter": "python",
   "pygments_lexer": "ipython3",
   "version": "3.9.7"
  }
 },
 "nbformat": 4,
 "nbformat_minor": 5
}
